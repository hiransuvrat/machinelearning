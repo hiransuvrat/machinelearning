{
 "cells": [
  {
   "cell_type": "code",
   "execution_count": 57,
   "metadata": {
    "collapsed": false
   },
   "outputs": [],
   "source": [
    "%matplotlib inline\n",
    "import pandas as pd\n",
    "\n",
    "train = pd.read_csv('./air/trainInt.csv')\n",
    "test = pd.read_csv('./air/testInt.csv')\n",
    "\n",
    "severityType = pd.read_csv('./air/severity_type.csv')\n",
    "eventType = pd.read_csv('./air/eventInt.csv')\n",
    "resourceType = pd.read_csv('./air/resource_type.csv')\n",
    "\n",
    "train = pd.merge(left=train, right=severityType, on='id', how='left')\n",
    "test = pd.merge(left=test, right=severityType, on='id', how='left')\n",
    "train = pd.merge(left=train, right=resourceType, on='id', how='left')\n",
    "test = pd.merge(left=test, right=resourceType, on='id', how='left')\n",
    "train = pd.merge(left=train, right=eventType, on='id', how='left')\n",
    "test = pd.merge(left=test, right=eventType, on='id', how='left')\n",
    "\n",
    "#Creating a DataFrame with train+test data\n",
    "df_all = pd.concat((train, test), axis=0, ignore_index=True)\n"
   ]
  },
  {
   "cell_type": "code",
   "execution_count": 62,
   "metadata": {
    "collapsed": false,
    "scrolled": false
   },
   "outputs": [
    {
     "name": "stdout",
     "output_type": "stream",
     "text": [
      "       eventInt  fault_severity     id  locInt       location  \\\n",
      "4556          7               1  17041       1     location 1   \n",
      "4553          7               1  17041       1     location 1   \n",
      "4555         11               1  17041       1     location 1   \n",
      "1770         11               0   5259       1     location 1   \n",
      "510          11               0   2588       1     location 1   \n",
      "987          11               0   4848       1     location 1   \n",
      "1767         11               0   5259       1     location 1   \n",
      "1926         11               1   3952       1     location 1   \n",
      "1942         11               0   5337       1     location 1   \n",
      "2421         11               1  15952       1     location 1   \n",
      "3492         11               2   4703       1     location 1   \n",
      "4552         11               1  17041       1     location 1   \n",
      "6942         11               1   1235       1     location 1   \n",
      "7440         11               0  16586       1     location 1   \n",
      "8523         11               1   5280       1     location 1   \n",
      "8673         11               0  15494       1     location 1   \n",
      "8842         11               0   1247       1     location 1   \n",
      "9372         11               2  17595       1     location 1   \n",
      "10623        11               1   8148       1     location 1   \n",
      "12601        11               0  16097       1     location 1   \n",
      "13762        11               0   6914       1     location 1   \n",
      "13923        11               0   2250       1     location 1   \n",
      "15937        11             NaN  12943       1     location 1   \n",
      "16571        11             NaN  10289       1     location 1   \n",
      "16805        11             NaN   4574       1     location 1   \n",
      "17192        11             NaN   6008       1     location 1   \n",
      "18221        11             NaN   3399       1     location 1   \n",
      "18424        11             NaN  17508       1     location 1   \n",
      "18543        11             NaN   7832       1     location 1   \n",
      "19317        11             NaN   6693       1     location 1   \n",
      "...         ...             ...    ...     ...            ...   \n",
      "27343        11             NaN  10794    1119  location 1119   \n",
      "1490         11               2  10478    1119  location 1119   \n",
      "7274         11               0   5587    1119  location 1119   \n",
      "18780        11             NaN   6870    1119  location 1119   \n",
      "27345        11             NaN  10794    1119  location 1119   \n",
      "29117        11             NaN   4022    1119  location 1119   \n",
      "27342        20             NaN  10794    1119  location 1119   \n",
      "27344        20             NaN  10794    1119  location 1119   \n",
      "2076         11               1   8422    1120  location 1120   \n",
      "3271         11               0  12992    1120  location 1120   \n",
      "9087         11               1  15221    1120  location 1120   \n",
      "11759        11               0    906    1120  location 1120   \n",
      "18857        11             NaN  10525    1120  location 1120   \n",
      "21581        11             NaN  13528    1120  location 1120   \n",
      "4893         20               1   7850    1121  location 1121   \n",
      "10629        20               1   3073    1121  location 1121   \n",
      "30362        11             NaN  10741    1121  location 1121   \n",
      "504          20               0   1697    1122  location 1122   \n",
      "35147        20             NaN   6343    1122  location 1122   \n",
      "15822        20             NaN  15289    1123  location 1123   \n",
      "26057        20             NaN  17719    1124  location 1124   \n",
      "1109         20               1  14544    1125  location 1125   \n",
      "37253        11             NaN  13712    1125  location 1125   \n",
      "13294         8               0  13149    1126  location 1126   \n",
      "13297         8               0  13149    1126  location 1126   \n",
      "13295        11               0  13149    1126  location 1126   \n",
      "13298        11               0  13149    1126  location 1126   \n",
      "7277         20               0  11436    1126  location 1126   \n",
      "13293        20               0  13149    1126  location 1126   \n",
      "13296        20               0  13149    1126  location 1126   \n",
      "\n",
      "         resource_type    severity_type  \n",
      "4556   resource_type 1  severity_type 1  \n",
      "4553   resource_type 8  severity_type 1  \n",
      "4555   resource_type 1  severity_type 1  \n",
      "1770   resource_type 2  severity_type 1  \n",
      "510    resource_type 8  severity_type 1  \n",
      "987    resource_type 8  severity_type 1  \n",
      "1767   resource_type 8  severity_type 1  \n",
      "1926   resource_type 8  severity_type 1  \n",
      "1942   resource_type 8  severity_type 1  \n",
      "2421   resource_type 8  severity_type 1  \n",
      "3492   resource_type 8  severity_type 1  \n",
      "4552   resource_type 8  severity_type 1  \n",
      "6942   resource_type 8  severity_type 1  \n",
      "7440   resource_type 8  severity_type 1  \n",
      "8523   resource_type 8  severity_type 1  \n",
      "8673   resource_type 8  severity_type 1  \n",
      "8842   resource_type 8  severity_type 1  \n",
      "9372   resource_type 8  severity_type 1  \n",
      "10623  resource_type 8  severity_type 1  \n",
      "12601  resource_type 8  severity_type 1  \n",
      "13762  resource_type 8  severity_type 1  \n",
      "13923  resource_type 8  severity_type 1  \n",
      "15937  resource_type 8  severity_type 1  \n",
      "16571  resource_type 8  severity_type 1  \n",
      "16805  resource_type 8  severity_type 1  \n",
      "17192  resource_type 8  severity_type 1  \n",
      "18221  resource_type 8  severity_type 1  \n",
      "18424  resource_type 8  severity_type 1  \n",
      "18543  resource_type 8  severity_type 1  \n",
      "19317  resource_type 8  severity_type 1  \n",
      "...                ...              ...  \n",
      "27343  resource_type 2  severity_type 1  \n",
      "1490   resource_type 8  severity_type 1  \n",
      "7274   resource_type 8  severity_type 1  \n",
      "18780  resource_type 8  severity_type 1  \n",
      "27345  resource_type 8  severity_type 1  \n",
      "29117  resource_type 8  severity_type 1  \n",
      "27342  resource_type 2  severity_type 1  \n",
      "27344  resource_type 8  severity_type 1  \n",
      "2076   resource_type 8  severity_type 1  \n",
      "3271   resource_type 8  severity_type 1  \n",
      "9087   resource_type 8  severity_type 1  \n",
      "11759  resource_type 8  severity_type 1  \n",
      "18857  resource_type 8  severity_type 1  \n",
      "21581  resource_type 8  severity_type 1  \n",
      "4893   resource_type 2  severity_type 1  \n",
      "10629  resource_type 2  severity_type 1  \n",
      "30362  resource_type 8  severity_type 2  \n",
      "504    resource_type 2  severity_type 1  \n",
      "35147  resource_type 2  severity_type 1  \n",
      "15822  resource_type 2  severity_type 1  \n",
      "26057  resource_type 2  severity_type 1  \n",
      "1109   resource_type 2  severity_type 1  \n",
      "37253  resource_type 8  severity_type 2  \n",
      "13294  resource_type 2  severity_type 1  \n",
      "13297  resource_type 8  severity_type 1  \n",
      "13295  resource_type 2  severity_type 1  \n",
      "13298  resource_type 8  severity_type 1  \n",
      "7277   resource_type 2  severity_type 1  \n",
      "13293  resource_type 2  severity_type 1  \n",
      "13296  resource_type 8  severity_type 1  \n",
      "\n",
      "[38076 rows x 7 columns]\n"
     ]
    },
    {
     "name": "stderr",
     "output_type": "stream",
     "text": [
      "/usr/local/lib/python2.7/dist-packages/ipykernel/__main__.py:2: FutureWarning: sort(columns=....) is deprecated, use sort_values(by=.....)\n",
      "  from ipykernel import kernelapp as app\n"
     ]
    }
   ],
   "source": [
    "#df_all = df_all.drop(['event_type'], axis=1)\n",
    "df_all = df_all.sort(['locInt', 'severity_type']) #eventInt', 'resource_type', 'severity_type'])\n",
    "print df_all\n",
    "#print df_all.loc[df_all['locInt'] == 122, ['locInt', 'id', 'fault_severity']]\n",
    "#df_all['locInt'] = (df_all['locInt'] / 100).astype(int)\n",
    "#groupi = df_all.groupby(['locInt', 'fault_severity'])\n",
    "#print groupi.count()\n",
    "#print df_all.loc[df_all['locInt'] == 481, ['locInt', 'id', 'fault_severity']]\n",
    "#print df_all.groupby(['severity_type', 'fault_severity']).count()['id']"
   ]
  },
  {
   "cell_type": "code",
   "execution_count": 46,
   "metadata": {
    "collapsed": false
   },
   "outputs": [
    {
     "ename": "SyntaxError",
     "evalue": "EOL while scanning string literal (<ipython-input-46-072e16b639f9>, line 4)",
     "output_type": "error",
     "traceback": [
      "\u001b[1;36m  File \u001b[1;32m\"<ipython-input-46-072e16b639f9>\"\u001b[1;36m, line \u001b[1;32m4\u001b[0m\n\u001b[1;33m    fg.plot(kind='bar', ['location''])\u001b[0m\n\u001b[1;37m                                     ^\u001b[0m\n\u001b[1;31mSyntaxError\u001b[0m\u001b[1;31m:\u001b[0m EOL while scanning string literal\n"
     ]
    }
   ],
   "source": [
    "data = df_all.copy()\n",
    "data['locInt'] = (df_all['locInt'] / 100).astype(int)\n",
    "fg = data.groupby(['fault_severity', 'locInt'])\n",
    "fg.plot(kind='bar', ['location''])\n"
   ]
  },
  {
   "cell_type": "code",
   "execution_count": 39,
   "metadata": {
    "collapsed": false
   },
   "outputs": [
    {
     "name": "stdout",
     "output_type": "stream",
     "text": [
      "Axes(0.125,0.125;0.775x0.775)\n"
     ]
    },
    {
     "data": {
      "image/png": "[encoded data removed]",
      "text/plain": [
       "<matplotlib.figure.Figure at 0x7f3e7fb8c8d0>"
      ]
     },
     "metadata": {},
     "output_type": "display_data"
    }
   ],
   "source": [
    "eventData = pd.read_csv('./air/eventInt.csv')\n",
    "#eventData = eventData.sort(['log_feature'])\n",
    "print eventData.groupby(['eventInt']).count()['id'].plot()"
   ]
  },
  {
   "cell_type": "code",
   "execution_count": 40,
   "metadata": {
    "collapsed": false
   },
   "outputs": [
    {
     "name": "stdout",
     "output_type": "stream",
     "text": [
      "Axes(0.125,0.125;0.775x0.775)\n"
     ]
    },
    {
     "data": {
      "image/png": "[encoded data removed]",
      "text/plain": [
       "<matplotlib.figure.Figure at 0x7f3e7fc08490>"
      ]
     },
     "metadata": {},
     "output_type": "display_data"
    }
   ],
   "source": [
    "eventData = pd.read_csv('./air/eventInt.csv')\n",
    "eventData['eventInt'] = (eventData['eventInt'] / 10).astype(int)\n",
    "print eventData.groupby(['fau'])\n",
    "print eventData.groupby(['eventInt']).count()['id'].plot()"
   ]
  },
  {
   "cell_type": "code",
   "execution_count": 24,
   "metadata": {
    "collapsed": false
   },
   "outputs": [
    {
     "name": "stdout",
     "output_type": "stream",
     "text": [
      "          id    severity_type\n",
      "10448      1  severity_type 1\n",
      "10957      3  severity_type 1\n",
      "10932      7  severity_type 1\n",
      "2602       9  severity_type 1\n",
      "16017     10  severity_type 1\n",
      "16696     12  severity_type 1\n",
      "15179     16  severity_type 1\n",
      "11071     19  severity_type 1\n",
      "15081     21  severity_type 1\n",
      "13709     27  severity_type 1\n",
      "946       34  severity_type 1\n",
      "18240     35  severity_type 1\n",
      "121       37  severity_type 1\n",
      "1325      39  severity_type 1\n",
      "12604     40  severity_type 1\n",
      "1348      42  severity_type 1\n",
      "548       47  severity_type 1\n",
      "10570     50  severity_type 1\n",
      "15082     51  severity_type 1\n",
      "5347      53  severity_type 1\n",
      "6673      56  severity_type 1\n",
      "1978      57  severity_type 1\n",
      "13607     58  severity_type 1\n",
      "10470     59  severity_type 1\n",
      "17295     60  severity_type 1\n",
      "14797     67  severity_type 1\n",
      "15948     69  severity_type 1\n",
      "17985     71  severity_type 1\n",
      "11400     72  severity_type 1\n",
      "13255     78  severity_type 1\n",
      "...      ...              ...\n",
      "10491  18495  severity_type 1\n",
      "16396  18498  severity_type 1\n",
      "15868  18499  severity_type 1\n",
      "4910   18501  severity_type 1\n",
      "12382  18508  severity_type 1\n",
      "15671  18509  severity_type 1\n",
      "11179  18511  severity_type 1\n",
      "17168  18513  severity_type 1\n",
      "7374   18515  severity_type 1\n",
      "17215  18518  severity_type 1\n",
      "13296  18519  severity_type 1\n",
      "15927  18520  severity_type 1\n",
      "3858   18521  severity_type 1\n",
      "10797  18522  severity_type 1\n",
      "15329  18524  severity_type 1\n",
      "14545  18525  severity_type 1\n",
      "4004   18527  severity_type 1\n",
      "13216  18530  severity_type 1\n",
      "12748  18533  severity_type 1\n",
      "1958   18534  severity_type 1\n",
      "14807  18536  severity_type 1\n",
      "2695   18538  severity_type 1\n",
      "4161   18539  severity_type 1\n",
      "12390  18541  severity_type 1\n",
      "18518  18543  severity_type 1\n",
      "1064   18544  severity_type 1\n",
      "16330  18546  severity_type 1\n",
      "7804   18549  severity_type 1\n",
      "3262   18550  severity_type 1\n",
      "16278  18551  severity_type 1\n",
      "\n",
      "[8728 rows x 2 columns]\n",
      "                   id\n",
      "severity_type        \n",
      "severity_type 1  8728\n",
      "severity_type 2  8737\n",
      "severity_type 3     8\n",
      "severity_type 4  1014\n",
      "severity_type 5    65\n"
     ]
    },
    {
     "name": "stderr",
     "output_type": "stream",
     "text": [
      "/usr/local/lib/python2.7/dist-packages/ipykernel/__main__.py:2: FutureWarning: sort(columns=....) is deprecated, use sort_values(by=.....)\n",
      "  from ipykernel import kernelapp as app\n"
     ]
    }
   ],
   "source": [
    "eventData = pd.read_csv('./air/severity_type.csv')\n",
    "eventData = eventData.sort(['id'])\n",
    "groupEvent = eventData.groupby(['severity_type']).count()\n",
    "print eventData[eventData['severity_type'] == 'severity_type 1']\n",
    "print groupEvent"
   ]
  },
  {
   "cell_type": "code",
   "execution_count": null,
   "metadata": {
    "collapsed": true
   },
   "outputs": [],
   "source": []
  }
 ],
 "metadata": {
  "kernelspec": {
   "display_name": "Python 2",
   "language": "python",
   "name": "python2"
  },
  "language_info": {
   "codemirror_mode": {
    "name": "ipython",
    "version": 2
   },
   "file_extension": ".py",
   "mimetype": "text/x-python",
   "name": "python",
   "nbconvert_exporter": "python",
   "pygments_lexer": "ipython2",
   "version": "2.7.6"
  }
 },
 "nbformat": 4,
 "nbformat_minor": 0
}
