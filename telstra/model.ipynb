{
 "cells": [
  {
   "cell_type": "code",
   "execution_count": 1,
   "metadata": {
    "collapsed": false
   },
   "outputs": [],
   "source": [
    "import pandas as pd\n",
    "from sklearn.preprocessing import LabelEncoder\n",
    "from xgboost.sklearn import XGBClassifier\n",
    "import numpy as np \n",
    "from sklearn import svm\n",
    "from sklearn.neighbors import KNeighborsClassifier as knn\n",
    "from sklearn.ensemble import ExtraTreesClassifier as etc\n",
    "from sklearn import svm\n",
    "np.random.seed(0)\n",
    "\n",
    "#Loading data\n",
    "df_train = pd.read_csv('./air/joinedTrain.csv')\n",
    "df_test = pd.read_csv('./air/joinedTest.csv')\n",
    "\n",
    "labels = df_train['fault_severity'].values\n",
    "df_train = df_train.drop(['fault_severity'], axis=1)\n",
    "id_test = df_test['id']\n",
    "piv_train = df_train.shape[0]\n",
    "\n",
    "#Creating a DataFrame with train+test data\n",
    "df_all = pd.concat((df_train, df_test), axis=0, ignore_index=True)\n",
    "df_all = df_all.drop(['id'], axis=1)\n",
    "\n",
    "#Filling nan\n",
    "df_all = df_all.fillna(-1)\n",
    "\n",
    "#####Feature engineering#######\n",
    "#One-hot-encoding features\n",
    "df_all = df_all.drop(['location'], axis=1)\n",
    "ohe_feats = ['severity_type', 'locInt']#, 'location']\n",
    "for f in ohe_feats:\n",
    "    df_all_dummy = pd.get_dummies(df_all[f], prefix=f)\n",
    "    df_all = df_all.drop([f], axis=1)\n",
    "    df_all = pd.concat((df_all, df_all_dummy), axis=1)\n",
    "\n",
    "#Splitting train and test\n",
    "vals = df_all.values\n",
    "X = vals[:piv_train]\n",
    "le = LabelEncoder()\n",
    "y = le.fit_transform(labels)   \n",
    "X_test = vals[piv_train:]\n",
    "\n",
    "#Classifier\n",
    "xgb = XGBClassifier(max_depth=6, learning_rate=0.25, n_estimators=43,\n",
    "                    objective='multi:softprob', subsample=0.6, colsample_bytree=0.6, seed=0)                  \n",
    "#xgb = XGBClassifier(n_estimators=1)\n",
    "xgb.fit(X, y)\n",
    "\n",
    "y_pred = xgb.predict_proba(X_test)  \n",
    "\n",
    "sub = pd.read_csv('./air/sample_submission.csv')\n",
    "sub['predict_0'] = y_pred[:, 0]\n",
    "sub['predict_1'] = y_pred[:, 1]\n",
    "sub['predict_2'] = y_pred[:, 2]\n",
    "    \n",
    "#Generate submission\n",
    "sub.to_csv('./air/res.csv',index=False)"
   ]
  },
  {
   "cell_type": "code",
   "execution_count": null,
   "metadata": {
    "collapsed": true
   },
   "outputs": [],
   "source": []
  }
 ],
 "metadata": {
  "kernelspec": {
   "display_name": "Python 2",
   "language": "python",
   "name": "python2"
  },
  "language_info": {
   "codemirror_mode": {
    "name": "ipython",
    "version": 2
   },
   "file_extension": ".py",
   "mimetype": "text/x-python",
   "name": "python",
   "nbconvert_exporter": "python",
   "pygments_lexer": "ipython2",
   "version": "2.7.6"
  }
 },
 "nbformat": 4,
 "nbformat_minor": 0
}
