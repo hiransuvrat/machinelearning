{
 "cells": [
  {
   "cell_type": "code",
   "execution_count": 2,
   "metadata": {
    "collapsed": false
   },
   "outputs": [
    {
     "name": "stdout",
     "output_type": "stream",
     "text": [
      "58671 58671\n",
      "0\n",
      "['feature 68', 'feature 172', 'feature 56', 'feature 193', 'feature 71', 'feature 201', 'feature 80', 'feature 203', 'feature 82', 'feature 111', 'feature 219', 'feature 134', 'feature 159', 'feature 198', 'feature 76', 'feature 167', 'feature 51', 'feature 228', 'feature 230', 'feature 308', 'feature 310', 'feature 301', 'feature 221', 'feature 307', 'feature 312', 'feature 232', 'feature 227', 'feature 160', 'feature 309', 'feature 229', 'feature 181', 'feature 314', 'feature 313', 'feature 234', 'feature 233', 'feature 84', 'feature 205', 'feature 54', 'feature 170', 'feature 206', 'feature 15', 'feature 182', 'feature 149', 'feature 62', 'feature 63', 'feature 183', 'feature 2', 'feature 137', 'feature 384', 'feature 299', 'feature 385', 'feature 300', 'feature 386', 'feature 73', 'feature 195', 'feature 133', 'feature 132', 'feature 217', 'feature 218', 'feature 109', 'feature 42', 'feature 157', 'feature 196', 'feature 74', 'feature 178', 'feature 273', 'feature 345', 'feature 179', 'feature 222', 'feature 304', 'feature 306', 'feature 223', 'feature 246', 'feature 326', 'feature 87', 'feature 209', 'feature 113', 'feature 26', 'feature 20', 'feature 103', 'feature 155', 'feature 280', 'feature 86', 'feature 207', 'feature 139', 'feature 43', 'feature 8', 'feature 158', 'feature 141', 'feature 5', 'feature 315', 'feature 235', 'feature 1', 'feature 127', 'feature 212', 'feature 136', 'feature 240', 'feature 319', 'feature 83', 'feature 204', 'feature 85', 'feature 188', 'feature 66', 'feature 24', 'feature 153', 'feature 360', 'feature 362', 'feature 118', 'feature 220', 'feature 171', 'feature 55', 'feature 173', 'feature 161', 'feature 57', 'feature 45', 'feature 164', 'feature 174', 'feature 58', 'feature 302', 'feature 279', 'feature 48', 'feature 135', 'feature 211', 'feature 202', 'feature 65', 'feature 187', 'feature 244', 'feature 260', 'feature 81', 'feature 270', 'feature 303', 'feature 30', 'feature 197', 'feature 75', 'feature 305', 'feature 163', 'feature 47', 'feature 317', 'feature 239', 'feature 318', 'feature 108', 'feature 251', 'feature 331', 'feature 252', 'feature 238', 'feature 191', 'feature 70', 'feature 255', 'feature 333', 'feature 226', 'feature 60', 'feature 177', 'feature 328', 'feature 249', 'feature 329', 'feature 169', 'feature 145', 'feature 10', 'feature 162', 'feature 46', 'feature 265', 'feature 340', 'feature 64', 'feature 266', 'feature 267', 'feature 341', 'feature 53', 'feature 77', 'feature 143', 'feature 142', 'feature 165', 'feature 49', 'feature 105', 'feature 22', 'feature 268', 'feature 342', 'feature 269', 'feature 44', 'feature 94', 'feature 39', 'feature 117', 'feature 237', 'feature 29', 'feature 348', 'feature 116', 'feature 275', 'feature 95', 'feature 248', 'feature 354', 'feature 277', 'feature 353', 'feature 278', 'feature 189', 'feature 67', 'feature 130', 'feature 216', 'feature 131', 'feature 215', 'feature 358', 'feature 357', 'feature 185', 'feature 61', 'feature 253', 'feature 332', 'feature 176', 'feature 59', 'feature 208', 'feature 316', 'feature 236', 'feature 359', 'feature 380', 'feature 295', 'feature 41', 'feature 156', 'feature 311', 'feature 231', 'feature 38', 'feature 152', 'feature 154', 'feature 129', 'feature 214', 'feature 37', 'feature 98', 'feature 36', 'feature 383', 'feature 298', 'feature 150', 'feature 35', 'feature 355', 'feature 356', 'feature 352', 'feature 351', 'feature 281', 'feature 294', 'feature 379', 'feature 99', 'feature 97', 'feature 365', 'feature 366', 'feature 364', 'feature 100', 'feature 363', 'feature 194', 'feature 72', 'feature 192', 'feature 175', 'feature 200', 'feature 104', 'feature 151', 'feature 17', 'feature 361', 'feature 140', 'feature 79', 'feature 7', 'feature 166', 'feature 50', 'feature 126', 'feature 168', 'feature 52', 'feature 330', 'feature 250', 'feature 78', 'feature 11', 'feature 199', 'feature 96', 'feature 16', 'feature 144', 'feature 9', 'feature 224', 'feature 225', 'feature 106', 'feature 21', 'feature 190', 'feature 69', 'feature 110', 'feature 114', 'feature 40', 'feature 374', 'feature 289', 'feature 285', 'feature 370', 'feature 33', 'feature 284', 'feature 121', 'feature 369', 'feature 122', 'feature 288', 'feature 367', 'feature 283', 'feature 368', 'feature 291', 'feature 376', 'feature 378', 'feature 293', 'feature 125', 'feature 120', 'feature 373', 'feature 282', 'feature 115', 'feature 14', 'feature 147', 'feature 146', 'feature 148', 'feature 112', 'feature 257', 'feature 335', 'feature 256', 'feature 334', 'feature 6', 'feature 27', 'feature 271', 'feature 343', 'feature 28', 'feature 101', 'feature 107', 'feature 4', 'feature 276', 'feature 349', 'feature 336', 'feature 258', 'feature 90', 'feature 12', 'feature 346', 'feature 89', 'feature 92', 'feature 91', 'feature 88', 'feature 3', 'feature 138', 'feature 184', 'feature 25', 'feature 344', 'feature 272', 'feature 350', 'feature 13', 'feature 381', 'feature 296', 'feature 324', 'feature 245', 'feature 325', 'feature 337', 'feature 259', 'feature 274', 'feature 347', 'feature 213', 'feature 128', 'feature 338', 'feature 261', 'feature 102', 'feature 19', 'feature 18', 'feature 23', 'feature 186', 'feature 180', 'feature 382', 'feature 241', 'feature 320', 'feature 321', 'feature 242', 'feature 322', 'feature 262', 'feature 297', 'feature 263', 'feature 243', 'feature 323', 'feature 290', 'feature 375', 'feature 377', 'feature 372', 'feature 292', 'feature 286', 'feature 371', 'feature 287', 'feature 123', 'feature 124', 'feature 34', 'feature 32', 'feature 93', 'feature 254', 'feature 247', 'feature 327', 'feature 119', 'feature 31', 'feature 264', 'feature 339', 'feature 210']\n"
     ]
    }
   ],
   "source": [
    "__author__ = 'suvrat'\n",
    "\n",
    "from csv import DictReader\n",
    "import pandas as pd\n",
    "\n",
    "origFile = './air/log_feature.csv'\n",
    "csvFile = './air/log_feature_filtered.csv'\n",
    "actionType = []\n",
    "fieldName = 'log_feature'\n",
    "idField = 'id'\n",
    "totalTime = []\n",
    "\n",
    "def filterCategorical(data, column, value):\n",
    "    counts = dict(data[column].value_counts())\n",
    "    for itr in counts:\n",
    "        if counts[itr] < value:\n",
    "            counts[itr] = -1\n",
    "    result = []\n",
    "    for index, row in data.iterrows():\n",
    "        if counts[row[column]] == -1:\n",
    "            result.extend(['log_other'])\n",
    "        else:\n",
    "            result.extend([row[column]])\n",
    "    print len(result), len(data.index)\n",
    "    data[column] = result\n",
    "    return data\n",
    "\n",
    "data = pd.read_csv(origFile,)\n",
    "data = filterCategorical(data, 'log_feature', 0)\n",
    "data.to_csv(csvFile, index=False)\n",
    "\n",
    "for e, row in enumerate( DictReader(open(csvFile)) ):\n",
    "    if not(row[fieldName] in actionType):\n",
    "        actionType.append(row[fieldName])\n",
    "    if (e%100000)==0:\n",
    "        print e\n",
    "\n",
    "print actionType\n",
    "\n",
    "id = '6597'\n",
    "outFile = './air/logFreq.csv'\n",
    "freq = [0] * (len(actionType)+1)\n",
    "\n",
    "\n",
    "with open(outFile,\"wb\") as outfile:\n",
    "    outfile.write(\"%s,%s\\n\" % (idField,','.join(actionType)))\n",
    "    for e, row in enumerate( DictReader(open(csvFile)) ):\n",
    "        if row[idField] == id:\n",
    "            freq[actionType.index(row[fieldName])] += int(row['volume'])\n",
    "        else:\n",
    "            outfile.write(\"%s,%s\\n\" % (id,','.join([str(i) for i in freq])))\n",
    "            freq = [0] * len(actionType)\n",
    "            id = row[idField]\n",
    "            freq[actionType.index(row[fieldName])] += int(row['volume'])\n",
    "    \n"
   ]
  },
  {
   "cell_type": "code",
   "execution_count": 2,
   "metadata": {
    "collapsed": false
   },
   "outputs": [
    {
     "name": "stderr",
     "output_type": "stream",
     "text": [
      "/usr/local/lib/python2.7/dist-packages/ipykernel/__main__.py:7: FutureWarning: sort is deprecated, use sort_values(inplace=True) for for INPLACE sorting\n"
     ]
    },
    {
     "data": {
      "text/plain": [
       "<matplotlib.axes.AxesSubplot at 0x7f3b8d71b750>"
      ]
     },
     "execution_count": 2,
     "metadata": {},
     "output_type": "execute_result"
    },
    {
     "data": {
      "image/png": "[encoded data removed]",
      "text/plain": [
       "<matplotlib.figure.Figure at 0x7f3b8d709610>"
      ]
     },
     "metadata": {},
     "output_type": "display_data"
    }
   ],
   "source": [
    "%matplotlib inline\n",
    "import pandas as pd\n",
    "data = pd.read_csv(outFile)\n",
    "data = data.drop('id', axis=1)\n",
    "data = data.sum()\n",
    "data.columns = ['log', 'count']\n",
    "data.sort(['count'], ascending=False, inplace=True)\n",
    "data.plot()"
   ]
  },
  {
   "cell_type": "code",
   "execution_count": 4,
   "metadata": {
    "collapsed": false
   },
   "outputs": [],
   "source": [
    "%matplotlib inline\n",
    "import pandas as pd\n",
    "data = pd.read_csv(origFile)\n",
    "groupData = data.groupby(['id']).count()['volume']\n",
    "#print groupData\n",
    "groupData.to_csv('./air/logGroup.csv')"
   ]
  },
  {
   "cell_type": "code",
   "execution_count": null,
   "metadata": {
    "collapsed": true
   },
   "outputs": [],
   "source": []
  }
 ],
 "metadata": {
  "kernelspec": {
   "display_name": "Python 2",
   "language": "python",
   "name": "python2"
  },
  "language_info": {
   "codemirror_mode": {
    "name": "ipython",
    "version": 2
   },
   "file_extension": ".py",
   "mimetype": "text/x-python",
   "name": "python",
   "nbconvert_exporter": "python",
   "pygments_lexer": "ipython2",
   "version": "2.7.6"
  }
 },
 "nbformat": 4,
 "nbformat_minor": 0
}
