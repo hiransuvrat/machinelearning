{
 "cells": [
  {
   "cell_type": "code",
   "execution_count": 1,
   "metadata": {
    "collapsed": false
   },
   "outputs": [],
   "source": [
    "import pandas as pd\n",
    "import numpy as np\n",
    "\n",
    "resultFile = './air/gbm.csv'\n",
    "sampleFile = './air/sample_submission.csv'\n",
    "\n",
    "data = pd.read_csv(resultFile)\n",
    "result = pd.read_csv(sampleFile)\n",
    "\n",
    "data = data.drop('predict', axis=1)\n",
    "\n",
    "result['predict_0'] = data['p0']\n",
    "result['predict_1'] = data['p1']\n",
    "result['predict_2'] = data['p2']\n",
    "\n",
    "result.to_csv('./air/result.csv', index=False)"
   ]
  },
  {
   "cell_type": "code",
   "execution_count": null,
   "metadata": {
    "collapsed": true
   },
   "outputs": [],
   "source": []
  }
 ],
 "metadata": {
  "kernelspec": {
   "display_name": "Python 2",
   "language": "python",
   "name": "python2"
  },
  "language_info": {
   "codemirror_mode": {
    "name": "ipython",
    "version": 2
   },
   "file_extension": ".py",
   "mimetype": "text/x-python",
   "name": "python",
   "nbconvert_exporter": "python",
   "pygments_lexer": "ipython2",
   "version": "2.7.6"
  }
 },
 "nbformat": 4,
 "nbformat_minor": 0
}
