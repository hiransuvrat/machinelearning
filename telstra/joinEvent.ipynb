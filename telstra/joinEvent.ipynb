{
 "cells": [
  {
   "cell_type": "code",
   "execution_count": 1,
   "metadata": {
    "collapsed": false
   },
   "outputs": [],
   "source": [
    "__author__ = 'suvrat'\n",
    "\n",
    "from csv import DictReader\n",
    "import pandas as pd\n",
    "\n",
    "def filterCategorical(data, column, value):\n",
    "    counts = dict(data[column].value_counts())\n",
    "    for itr in counts:\n",
    "        if counts[itr] < value:\n",
    "            counts[itr] = -1\n",
    "    result = []\n",
    "    for index, row in data.iterrows():\n",
    "        if counts[row[column]] == -1:\n",
    "            result.extend(['event_other'])\n",
    "        else:\n",
    "            result.extend([row[column]])\n",
    "    data[column] = result\n",
    "    return data\n",
    "\n",
    "origFile = './air/event_type.csv'\n",
    "csvFile = './air/event_type_filtered.csv'\n",
    "actionType = []\n",
    "fieldName = 'event_type'\n",
    "idField = 'id'\n",
    "totalTime = []\n",
    "\n",
    "data = pd.read_csv(origFile)\n",
    "data = filterCategorical(data, 'event_type', 0)\n",
    "data.to_csv(csvFile, index=False)\n",
    "\n",
    "for e, row in enumerate( DictReader(open(csvFile)) ):\n",
    "    if not(row[fieldName] in actionType):\n",
    "        actionType.append(row[fieldName])\n",
    "    \n",
    "#print actionType\n",
    "\n",
    "id = '6597'\n",
    "outFile = './air/eventFreq.csv'\n",
    "freq = [0] * len(actionType)\n",
    "\n",
    "with open(outFile,\"wb\") as outfile:\n",
    "    outfile.write(\"%s,%s\\n\" % (idField,','.join(actionType)))\n",
    "    for e, row in enumerate( DictReader(open(csvFile)) ):\n",
    "        if row[idField] == id:\n",
    "            freq[actionType.index(row[fieldName])] += 1\n",
    "        else:\n",
    "            outfile.write(\"%s,%s\\n\" % (id,','.join([str(i) for i in freq])))\n",
    "            freq = [0] * len(actionType)\n",
    "            id = row[idField]\n",
    "            freq[actionType.index(row[fieldName])] += 1\n",
    "    \n"
   ]
  },
  {
   "cell_type": "code",
   "execution_count": 2,
   "metadata": {
    "collapsed": false
   },
   "outputs": [
    {
     "name": "stderr",
     "output_type": "stream",
     "text": [
      "/usr/local/lib/python2.7/dist-packages/ipykernel/__main__.py:7: FutureWarning: sort is deprecated, use sort_values(inplace=True) for for INPLACE sorting\n"
     ]
    },
    {
     "data": {
      "text/plain": [
       "<matplotlib.axes.AxesSubplot at 0x7f878d642750>"
      ]
     },
     "execution_count": 2,
     "metadata": {},
     "output_type": "execute_result"
    },
    {
     "data": {
      "image/png": "[encoded data removed]",
      "text/plain": [
       "<matplotlib.figure.Figure at 0x7f878d62c610>"
      ]
     },
     "metadata": {},
     "output_type": "display_data"
    }
   ],
   "source": [
    "%matplotlib inline\n",
    "import pandas as pd\n",
    "data = pd.read_csv(outFile)\n",
    "data = data.drop('id', axis=1)\n",
    "data = data.sum()\n",
    "data.columns = ['event', 'count']\n",
    "data.sort(['count'], ascending=False, inplace=True)\n",
    "data.plot()"
   ]
  },
  {
   "cell_type": "code",
   "execution_count": 2,
   "metadata": {
    "collapsed": true
   },
   "outputs": [],
   "source": [
    "%matplotlib inline\n",
    "import pandas as pd\n",
    "\n",
    "data = pd.read_csv(origFile)\n",
    "groupData = data.groupby(['id']).count()['event_type']\n",
    "#print groupData\n",
    "groupData.to_csv('./air/eventGroup.csv')"
   ]
  },
  {
   "cell_type": "code",
   "execution_count": null,
   "metadata": {
    "collapsed": true
   },
   "outputs": [],
   "source": []
  }
 ],
 "metadata": {
  "kernelspec": {
   "display_name": "Python 2",
   "language": "python",
   "name": "python2"
  },
  "language_info": {
   "codemirror_mode": {
    "name": "ipython",
    "version": 2
   },
   "file_extension": ".py",
   "mimetype": "text/x-python",
   "name": "python",
   "nbconvert_exporter": "python",
   "pygments_lexer": "ipython2",
   "version": "2.7.6"
  }
 },
 "nbformat": 4,
 "nbformat_minor": 0
}
